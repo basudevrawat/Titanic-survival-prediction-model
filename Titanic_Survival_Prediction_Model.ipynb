{
  "metadata": {
    "kernelspec": {
      "language": "python",
      "display_name": "Python 3",
      "name": "python3"
    },
    "language_info": {
      "name": "python",
      "version": "3.10.13",
      "mimetype": "text/x-python",
      "codemirror_mode": {
        "name": "ipython",
        "version": 3
      },
      "pygments_lexer": "ipython3",
      "nbconvert_exporter": "python",
      "file_extension": ".py"
    },
    "kaggle": {
      "accelerator": "none",
      "dataSources": [
        {
          "sourceId": 7641765,
          "sourceType": "datasetVersion",
          "datasetId": 4453825
        }
      ],
      "dockerImageVersionId": 30646,
      "isInternetEnabled": true,
      "language": "python",
      "sourceType": "notebook",
      "isGpuEnabled": false
    },
    "colab": {
      "name": "Titanic Survival Prediction Model",
      "provenance": [],
      "include_colab_link": true
    }
  },
  "nbformat_minor": 0,
  "nbformat": 4,
  "cells": [
    {
      "cell_type": "markdown",
      "metadata": {
        "id": "view-in-github",
        "colab_type": "text"
      },
      "source": [
        "<a href=\"https://colab.research.google.com/github/basudevrawat/Titanic-survival-prediction-model/blob/branch/Titanic_Survival_Prediction_Model.ipynb\" target=\"_parent\"><img src=\"https://colab.research.google.com/assets/colab-badge.svg\" alt=\"Open In Colab\"/></a>"
      ]
    },
    {
      "source": [
        "# IMPORTANT: SOME KAGGLE DATA SOURCES ARE PRIVATE\n",
        "# RUN THIS CELL IN ORDER TO IMPORT YOUR KAGGLE DATA SOURCES.\n",
        "import kagglehub\n",
        "kagglehub.login()\n"
      ],
      "metadata": {
        "id": "p8rFBbgAQDgF"
      },
      "cell_type": "code",
      "outputs": [],
      "execution_count": null
    },
    {
      "source": [
        "# IMPORTANT: RUN THIS CELL IN ORDER TO IMPORT YOUR KAGGLE DATA SOURCES,\n",
        "# THEN FEEL FREE TO DELETE THIS CELL.\n",
        "# NOTE: THIS NOTEBOOK ENVIRONMENT DIFFERS FROM KAGGLE'S PYTHON\n",
        "# ENVIRONMENT SO THERE MAY BE MISSING LIBRARIES USED BY YOUR\n",
        "# NOTEBOOK.\n",
        "\n",
        "basudevrawat_titanic_path = kagglehub.dataset_download('basudevrawat/titanic')\n",
        "\n",
        "print('Data source import complete.')\n"
      ],
      "metadata": {
        "id": "7CQJxNkRQDgG"
      },
      "cell_type": "code",
      "outputs": [],
      "execution_count": null
    },
    {
      "cell_type": "code",
      "source": [
        "# This Python 3 environment comes with many helpful analytics libraries installed\n",
        "# It is defined by the kaggle/python Docker image: https://github.com/kaggle/docker-python\n",
        "# For example, here's several helpful packages to load\n",
        "\n",
        "import numpy as np # linear algebra\n",
        "import pandas as pd # data processing, CSV file I/O (e.g. pd.read_csv)\n",
        "\n",
        "# Input data files are available in the read-only \"../input/\" directory\n",
        "# For example, running this (by clicking run or pressing Shift+Enter) will list all files under the input directory\n",
        "\n",
        "import os\n",
        "for dirname, _, filenames in os.walk('/kaggle/input'):\n",
        "    for filename in filenames:\n",
        "        print(os.path.join(dirname, filename))\n",
        "\n",
        "# You can write up to 20GB to the current directory (/kaggle/working/) that gets preserved as output when you create a version using \"Save & Run All\"\n",
        "# You can also write temporary files to /kaggle/temp/, but they won't be saved outside of the current session"
      ],
      "metadata": {
        "_uuid": "8f2839f25d086af736a60e9eeb907d3b93b6e0e5",
        "_cell_guid": "b1076dfc-b9ad-4769-8c92-a6c4dae69d19",
        "execution": {
          "iopub.status.busy": "2024-02-17T09:01:09.492336Z",
          "iopub.execute_input": "2024-02-17T09:01:09.492704Z",
          "iopub.status.idle": "2024-02-17T09:01:10.957182Z",
          "shell.execute_reply.started": "2024-02-17T09:01:09.492676Z",
          "shell.execute_reply": "2024-02-17T09:01:10.956246Z"
        },
        "trusted": true,
        "id": "vQGi2LveQDgH",
        "outputId": "7cc0777e-ad4b-46e4-9039-f7dbde56b8c9"
      },
      "outputs": [
        {
          "name": "stdout",
          "text": "/kaggle/input/titanic/train.csv\n/kaggle/input/titanic/test.csv\n/kaggle/input/titanic/gender_submission.csv\n",
          "output_type": "stream"
        }
      ],
      "execution_count": null
    },
    {
      "cell_type": "code",
      "source": [
        "/kaggle/input/titanic/gender_submission.csv\n"
      ],
      "metadata": {
        "execution": {
          "iopub.status.busy": "2024-02-17T09:01:53.634355Z",
          "iopub.execute_input": "2024-02-17T09:01:53.635021Z",
          "iopub.status.idle": "2024-02-17T09:01:53.981379Z",
          "shell.execute_reply.started": "2024-02-17T09:01:53.634984Z",
          "shell.execute_reply": "2024-02-17T09:01:53.979259Z"
        },
        "trusted": true,
        "id": "67MmnX0wQDgI",
        "outputId": "0e79be70-29fe-4bee-a965-9aec3c418c10"
      },
      "outputs": [
        {
          "traceback": [
            "\u001b[0;31m---------------------------------------------------------------------------\u001b[0m",
            "\u001b[0;31mNameError\u001b[0m                                 Traceback (most recent call last)",
            "Cell \u001b[0;32mIn[2], line 1\u001b[0m\n\u001b[0;32m----> 1\u001b[0m \u001b[43mkaggle\u001b[49m\u001b[38;5;241m/\u001b[39m\u001b[38;5;28minput\u001b[39m\u001b[38;5;241m/\u001b[39mtitanic\u001b[38;5;241m/\u001b[39mgender_submission\u001b[38;5;241m.\u001b[39mcsv()\n",
            "\u001b[0;31mNameError\u001b[0m: name 'kaggle' is not defined"
          ],
          "ename": "NameError",
          "evalue": "name 'kaggle' is not defined",
          "output_type": "error"
        }
      ],
      "execution_count": null
    },
    {
      "cell_type": "code",
      "source": [
        "test.csv"
      ],
      "metadata": {
        "execution": {
          "iopub.status.busy": "2024-02-17T09:04:48.676266Z",
          "iopub.execute_input": "2024-02-17T09:04:48.676645Z",
          "iopub.status.idle": "2024-02-17T09:04:48.713257Z",
          "shell.execute_reply.started": "2024-02-17T09:04:48.676617Z",
          "shell.execute_reply": "2024-02-17T09:04:48.711643Z"
        },
        "trusted": true,
        "id": "ddrd6Ro-QDgI",
        "outputId": "89c9e6d8-b16b-4369-e77d-e13fcba4a31a"
      },
      "outputs": [
        {
          "traceback": [
            "\u001b[0;31m---------------------------------------------------------------------------\u001b[0m",
            "\u001b[0;31mNameError\u001b[0m                                 Traceback (most recent call last)",
            "Cell \u001b[0;32mIn[4], line 1\u001b[0m\n\u001b[0;32m----> 1\u001b[0m \u001b[43mtest\u001b[49m\u001b[38;5;241m.\u001b[39mcsv\n",
            "\u001b[0;31mNameError\u001b[0m: name 'test' is not defined"
          ],
          "ename": "NameError",
          "evalue": "name 'test' is not defined",
          "output_type": "error"
        }
      ],
      "execution_count": null
    },
    {
      "cell_type": "code",
      "source": [
        "import pandas as pd\n",
        "data_train=pd.read_csv(\"/kaggle/input/titanic/train.csv\")\n",
        "data_test=pd.read_csv(\"/kaggle/input/titanic/test.csv\")"
      ],
      "metadata": {
        "execution": {
          "iopub.status.busy": "2024-02-17T09:08:18.050926Z",
          "iopub.execute_input": "2024-02-17T09:08:18.051631Z",
          "iopub.status.idle": "2024-02-17T09:08:18.066893Z",
          "shell.execute_reply.started": "2024-02-17T09:08:18.05158Z",
          "shell.execute_reply": "2024-02-17T09:08:18.06549Z"
        },
        "trusted": true,
        "id": "ZcGImELYQDgI"
      },
      "outputs": [],
      "execution_count": null
    },
    {
      "cell_type": "code",
      "source": [],
      "metadata": {
        "execution": {
          "iopub.status.busy": "2024-02-17T10:24:48.002829Z",
          "iopub.execute_input": "2024-02-17T10:24:48.003229Z",
          "iopub.status.idle": "2024-02-17T10:24:48.011262Z",
          "shell.execute_reply.started": "2024-02-17T10:24:48.0032Z",
          "shell.execute_reply": "2024-02-17T10:24:48.009237Z"
        },
        "trusted": true,
        "id": "mt4rj3_yQDgI",
        "outputId": "f85c2b7b-2517-4b1d-b668-3166c23768c1"
      },
      "outputs": [
        {
          "traceback": [
            "\u001b[0;36m  Cell \u001b[0;32mIn[43], line 1\u001b[0;36m\u001b[0m\n\u001b[0;31m    test Id = data_train(\"PassengerId\")\u001b[0m\n\u001b[0m         ^\u001b[0m\n\u001b[0;31mSyntaxError\u001b[0m\u001b[0;31m:\u001b[0m invalid syntax\n"
          ],
          "ename": "SyntaxError",
          "evalue": "invalid syntax (3750982643.py, line 1)",
          "output_type": "error"
        }
      ],
      "execution_count": null
    },
    {
      "cell_type": "code",
      "source": [
        "data_train"
      ],
      "metadata": {
        "execution": {
          "iopub.status.busy": "2024-02-17T10:24:51.236213Z",
          "iopub.execute_input": "2024-02-17T10:24:51.236641Z",
          "iopub.status.idle": "2024-02-17T10:24:51.255056Z",
          "shell.execute_reply.started": "2024-02-17T10:24:51.236609Z",
          "shell.execute_reply": "2024-02-17T10:24:51.253989Z"
        },
        "trusted": true,
        "id": "d6eCu2WdQDgI",
        "outputId": "e9239c2a-09f7-4ba7-842b-ecfc9fa378d7"
      },
      "outputs": [
        {
          "execution_count": 44,
          "output_type": "execute_result",
          "data": {
            "text/plain": "     Survived  Pclass  Sex        Age  Parch     Fare  Embarked\n0           0       3    1  22.000000      0   7.2500         2\n1           1       1    0  38.000000      0  71.2833         0\n2           1       3    0  26.000000      0   7.9250         2\n3           1       1    0  35.000000      0  53.1000         2\n4           0       3    1  35.000000      0   8.0500         2\n..        ...     ...  ...        ...    ...      ...       ...\n886         0       2    1  27.000000      0  13.0000         2\n887         1       1    0  19.000000      0  30.0000         2\n888         0       3    0  29.699118      2  23.4500         2\n889         1       1    1  26.000000      0  30.0000         0\n890         0       3    1  32.000000      0   7.7500         1\n\n[891 rows x 7 columns]",
            "text/html": "<div>\n<style scoped>\n    .dataframe tbody tr th:only-of-type {\n        vertical-align: middle;\n    }\n\n    .dataframe tbody tr th {\n        vertical-align: top;\n    }\n\n    .dataframe thead th {\n        text-align: right;\n    }\n</style>\n<table border=\"1\" class=\"dataframe\">\n  <thead>\n    <tr style=\"text-align: right;\">\n      <th></th>\n      <th>Survived</th>\n      <th>Pclass</th>\n      <th>Sex</th>\n      <th>Age</th>\n      <th>Parch</th>\n      <th>Fare</th>\n      <th>Embarked</th>\n    </tr>\n  </thead>\n  <tbody>\n    <tr>\n      <th>0</th>\n      <td>0</td>\n      <td>3</td>\n      <td>1</td>\n      <td>22.000000</td>\n      <td>0</td>\n      <td>7.2500</td>\n      <td>2</td>\n    </tr>\n    <tr>\n      <th>1</th>\n      <td>1</td>\n      <td>1</td>\n      <td>0</td>\n      <td>38.000000</td>\n      <td>0</td>\n      <td>71.2833</td>\n      <td>0</td>\n    </tr>\n    <tr>\n      <th>2</th>\n      <td>1</td>\n      <td>3</td>\n      <td>0</td>\n      <td>26.000000</td>\n      <td>0</td>\n      <td>7.9250</td>\n      <td>2</td>\n    </tr>\n    <tr>\n      <th>3</th>\n      <td>1</td>\n      <td>1</td>\n      <td>0</td>\n      <td>35.000000</td>\n      <td>0</td>\n      <td>53.1000</td>\n      <td>2</td>\n    </tr>\n    <tr>\n      <th>4</th>\n      <td>0</td>\n      <td>3</td>\n      <td>1</td>\n      <td>35.000000</td>\n      <td>0</td>\n      <td>8.0500</td>\n      <td>2</td>\n    </tr>\n    <tr>\n      <th>...</th>\n      <td>...</td>\n      <td>...</td>\n      <td>...</td>\n      <td>...</td>\n      <td>...</td>\n      <td>...</td>\n      <td>...</td>\n    </tr>\n    <tr>\n      <th>886</th>\n      <td>0</td>\n      <td>2</td>\n      <td>1</td>\n      <td>27.000000</td>\n      <td>0</td>\n      <td>13.0000</td>\n      <td>2</td>\n    </tr>\n    <tr>\n      <th>887</th>\n      <td>1</td>\n      <td>1</td>\n      <td>0</td>\n      <td>19.000000</td>\n      <td>0</td>\n      <td>30.0000</td>\n      <td>2</td>\n    </tr>\n    <tr>\n      <th>888</th>\n      <td>0</td>\n      <td>3</td>\n      <td>0</td>\n      <td>29.699118</td>\n      <td>2</td>\n      <td>23.4500</td>\n      <td>2</td>\n    </tr>\n    <tr>\n      <th>889</th>\n      <td>1</td>\n      <td>1</td>\n      <td>1</td>\n      <td>26.000000</td>\n      <td>0</td>\n      <td>30.0000</td>\n      <td>0</td>\n    </tr>\n    <tr>\n      <th>890</th>\n      <td>0</td>\n      <td>3</td>\n      <td>1</td>\n      <td>32.000000</td>\n      <td>0</td>\n      <td>7.7500</td>\n      <td>1</td>\n    </tr>\n  </tbody>\n</table>\n<p>891 rows × 7 columns</p>\n</div>"
          },
          "metadata": {}
        }
      ],
      "execution_count": null
    },
    {
      "cell_type": "code",
      "source": [
        "data_test\n"
      ],
      "metadata": {
        "execution": {
          "iopub.status.busy": "2024-02-17T10:24:54.462918Z",
          "iopub.execute_input": "2024-02-17T10:24:54.463348Z",
          "iopub.status.idle": "2024-02-17T10:24:54.47744Z",
          "shell.execute_reply.started": "2024-02-17T10:24:54.463318Z",
          "shell.execute_reply": "2024-02-17T10:24:54.476523Z"
        },
        "trusted": true,
        "id": "hZkLp4tfQDgJ",
        "outputId": "c526a027-9020-4057-8bb5-ebb68aa26cd6"
      },
      "outputs": [
        {
          "execution_count": 45,
          "output_type": "execute_result",
          "data": {
            "text/plain": "     Pclass  Sex       Age  Parch      Fare  Embarked\n0         3    1  34.50000      0    7.8292         1\n1         3    0  47.00000      0    7.0000         2\n2         2    1  62.00000      0    9.6875         1\n3         3    1  27.00000      0    8.6625         2\n4         3    0  22.00000      1   12.2875         2\n..      ...  ...       ...    ...       ...       ...\n413       3    1  30.27259      0    8.0500         2\n414       1    0  39.00000      0  108.9000         0\n415       3    1  38.50000      0    7.2500         2\n416       3    1  30.27259      0    8.0500         2\n417       3    1  30.27259      1   22.3583         0\n\n[418 rows x 6 columns]",
            "text/html": "<div>\n<style scoped>\n    .dataframe tbody tr th:only-of-type {\n        vertical-align: middle;\n    }\n\n    .dataframe tbody tr th {\n        vertical-align: top;\n    }\n\n    .dataframe thead th {\n        text-align: right;\n    }\n</style>\n<table border=\"1\" class=\"dataframe\">\n  <thead>\n    <tr style=\"text-align: right;\">\n      <th></th>\n      <th>Pclass</th>\n      <th>Sex</th>\n      <th>Age</th>\n      <th>Parch</th>\n      <th>Fare</th>\n      <th>Embarked</th>\n    </tr>\n  </thead>\n  <tbody>\n    <tr>\n      <th>0</th>\n      <td>3</td>\n      <td>1</td>\n      <td>34.50000</td>\n      <td>0</td>\n      <td>7.8292</td>\n      <td>1</td>\n    </tr>\n    <tr>\n      <th>1</th>\n      <td>3</td>\n      <td>0</td>\n      <td>47.00000</td>\n      <td>0</td>\n      <td>7.0000</td>\n      <td>2</td>\n    </tr>\n    <tr>\n      <th>2</th>\n      <td>2</td>\n      <td>1</td>\n      <td>62.00000</td>\n      <td>0</td>\n      <td>9.6875</td>\n      <td>1</td>\n    </tr>\n    <tr>\n      <th>3</th>\n      <td>3</td>\n      <td>1</td>\n      <td>27.00000</td>\n      <td>0</td>\n      <td>8.6625</td>\n      <td>2</td>\n    </tr>\n    <tr>\n      <th>4</th>\n      <td>3</td>\n      <td>0</td>\n      <td>22.00000</td>\n      <td>1</td>\n      <td>12.2875</td>\n      <td>2</td>\n    </tr>\n    <tr>\n      <th>...</th>\n      <td>...</td>\n      <td>...</td>\n      <td>...</td>\n      <td>...</td>\n      <td>...</td>\n      <td>...</td>\n    </tr>\n    <tr>\n      <th>413</th>\n      <td>3</td>\n      <td>1</td>\n      <td>30.27259</td>\n      <td>0</td>\n      <td>8.0500</td>\n      <td>2</td>\n    </tr>\n    <tr>\n      <th>414</th>\n      <td>1</td>\n      <td>0</td>\n      <td>39.00000</td>\n      <td>0</td>\n      <td>108.9000</td>\n      <td>0</td>\n    </tr>\n    <tr>\n      <th>415</th>\n      <td>3</td>\n      <td>1</td>\n      <td>38.50000</td>\n      <td>0</td>\n      <td>7.2500</td>\n      <td>2</td>\n    </tr>\n    <tr>\n      <th>416</th>\n      <td>3</td>\n      <td>1</td>\n      <td>30.27259</td>\n      <td>0</td>\n      <td>8.0500</td>\n      <td>2</td>\n    </tr>\n    <tr>\n      <th>417</th>\n      <td>3</td>\n      <td>1</td>\n      <td>30.27259</td>\n      <td>1</td>\n      <td>22.3583</td>\n      <td>0</td>\n    </tr>\n  </tbody>\n</table>\n<p>418 rows × 6 columns</p>\n</div>"
          },
          "metadata": {}
        }
      ],
      "execution_count": null
    },
    {
      "cell_type": "code",
      "source": [
        "def clean(data):\n",
        "    data = data.drop(['Ticket','Name','PassengerId','Cabin','SibSp'], axis=1)\n",
        "    cols = ['Parch','Fare', 'Age']\n",
        "\n",
        "    for col in cols:\n",
        "        data[col].fillna(data[col].mean(),inplace=True)\n",
        "\n",
        "    data.Embarked.fillna(\"S\",inplace=True)\n",
        "    return data\n",
        "\n",
        "data_train=clean(data_train)\n",
        "data_test=clean(data_test)"
      ],
      "metadata": {
        "execution": {
          "iopub.status.busy": "2024-02-17T09:46:05.300565Z",
          "iopub.execute_input": "2024-02-17T09:46:05.301058Z",
          "iopub.status.idle": "2024-02-17T09:46:05.40969Z",
          "shell.execute_reply.started": "2024-02-17T09:46:05.301025Z",
          "shell.execute_reply": "2024-02-17T09:46:05.408509Z"
        },
        "trusted": true,
        "id": "muiYeNwEQDgJ",
        "outputId": "9593ba54-fb0a-4a23-d948-86893ba6a4c5"
      },
      "outputs": [
        {
          "traceback": [
            "\u001b[0;31m---------------------------------------------------------------------------\u001b[0m",
            "\u001b[0;31mKeyError\u001b[0m                                  Traceback (most recent call last)",
            "Cell \u001b[0;32mIn[21], line 11\u001b[0m\n\u001b[1;32m      8\u001b[0m     data\u001b[38;5;241m.\u001b[39mEmbarked\u001b[38;5;241m.\u001b[39mfillna(\u001b[38;5;124m\"\u001b[39m\u001b[38;5;124mS\u001b[39m\u001b[38;5;124m\"\u001b[39m,inplace\u001b[38;5;241m=\u001b[39m\u001b[38;5;28;01mTrue\u001b[39;00m)\n\u001b[1;32m      9\u001b[0m     \u001b[38;5;28;01mreturn\u001b[39;00m data\n\u001b[0;32m---> 11\u001b[0m data_train\u001b[38;5;241m=\u001b[39m\u001b[43mclean\u001b[49m\u001b[43m(\u001b[49m\u001b[43mdata_train\u001b[49m\u001b[43m)\u001b[49m\n\u001b[1;32m     12\u001b[0m data_test\u001b[38;5;241m=\u001b[39mclean(data_test)\n",
            "Cell \u001b[0;32mIn[21], line 2\u001b[0m, in \u001b[0;36mclean\u001b[0;34m(data)\u001b[0m\n\u001b[1;32m      1\u001b[0m \u001b[38;5;28;01mdef\u001b[39;00m \u001b[38;5;21mclean\u001b[39m(data):\n\u001b[0;32m----> 2\u001b[0m     data \u001b[38;5;241m=\u001b[39m \u001b[43mdata\u001b[49m\u001b[38;5;241;43m.\u001b[39;49m\u001b[43mdrop\u001b[49m\u001b[43m(\u001b[49m\u001b[43m[\u001b[49m\u001b[38;5;124;43m'\u001b[39;49m\u001b[38;5;124;43mTicket\u001b[39;49m\u001b[38;5;124;43m'\u001b[39;49m\u001b[43m,\u001b[49m\u001b[38;5;124;43m'\u001b[39;49m\u001b[38;5;124;43mName\u001b[39;49m\u001b[38;5;124;43m'\u001b[39;49m\u001b[43m,\u001b[49m\u001b[38;5;124;43m'\u001b[39;49m\u001b[38;5;124;43mPassengerId\u001b[39;49m\u001b[38;5;124;43m'\u001b[39;49m\u001b[43m,\u001b[49m\u001b[38;5;124;43m'\u001b[39;49m\u001b[38;5;124;43mCabin\u001b[39;49m\u001b[38;5;124;43m'\u001b[39;49m\u001b[43m,\u001b[49m\u001b[38;5;124;43m'\u001b[39;49m\u001b[38;5;124;43mSibSp\u001b[39;49m\u001b[38;5;124;43m'\u001b[39;49m\u001b[43m]\u001b[49m\u001b[43m,\u001b[49m\u001b[43m \u001b[49m\u001b[43maxis\u001b[49m\u001b[38;5;241;43m=\u001b[39;49m\u001b[38;5;241;43m1\u001b[39;49m\u001b[43m)\u001b[49m\n\u001b[1;32m      3\u001b[0m     cols \u001b[38;5;241m=\u001b[39m [\u001b[38;5;124m'\u001b[39m\u001b[38;5;124mParch\u001b[39m\u001b[38;5;124m'\u001b[39m,\u001b[38;5;124m'\u001b[39m\u001b[38;5;124mFare\u001b[39m\u001b[38;5;124m'\u001b[39m, \u001b[38;5;124m'\u001b[39m\u001b[38;5;124mAge\u001b[39m\u001b[38;5;124m'\u001b[39m]\n\u001b[1;32m      5\u001b[0m     \u001b[38;5;28;01mfor\u001b[39;00m col \u001b[38;5;129;01min\u001b[39;00m cols:\n",
            "File \u001b[0;32m/opt/conda/lib/python3.10/site-packages/pandas/core/frame.py:5568\u001b[0m, in \u001b[0;36mDataFrame.drop\u001b[0;34m(self, labels, axis, index, columns, level, inplace, errors)\u001b[0m\n\u001b[1;32m   5420\u001b[0m \u001b[38;5;28;01mdef\u001b[39;00m \u001b[38;5;21mdrop\u001b[39m(\n\u001b[1;32m   5421\u001b[0m     \u001b[38;5;28mself\u001b[39m,\n\u001b[1;32m   5422\u001b[0m     labels: IndexLabel \u001b[38;5;241m|\u001b[39m \u001b[38;5;28;01mNone\u001b[39;00m \u001b[38;5;241m=\u001b[39m \u001b[38;5;28;01mNone\u001b[39;00m,\n\u001b[0;32m   (...)\u001b[0m\n\u001b[1;32m   5429\u001b[0m     errors: IgnoreRaise \u001b[38;5;241m=\u001b[39m \u001b[38;5;124m\"\u001b[39m\u001b[38;5;124mraise\u001b[39m\u001b[38;5;124m\"\u001b[39m,\n\u001b[1;32m   5430\u001b[0m ) \u001b[38;5;241m-\u001b[39m\u001b[38;5;241m>\u001b[39m DataFrame \u001b[38;5;241m|\u001b[39m \u001b[38;5;28;01mNone\u001b[39;00m:\n\u001b[1;32m   5431\u001b[0m \u001b[38;5;250m    \u001b[39m\u001b[38;5;124;03m\"\"\"\u001b[39;00m\n\u001b[1;32m   5432\u001b[0m \u001b[38;5;124;03m    Drop specified labels from rows or columns.\u001b[39;00m\n\u001b[1;32m   5433\u001b[0m \n\u001b[0;32m   (...)\u001b[0m\n\u001b[1;32m   5566\u001b[0m \u001b[38;5;124;03m            weight  1.0     0.8\u001b[39;00m\n\u001b[1;32m   5567\u001b[0m \u001b[38;5;124;03m    \"\"\"\u001b[39;00m\n\u001b[0;32m-> 5568\u001b[0m     \u001b[38;5;28;01mreturn\u001b[39;00m \u001b[38;5;28;43msuper\u001b[39;49m\u001b[43m(\u001b[49m\u001b[43m)\u001b[49m\u001b[38;5;241;43m.\u001b[39;49m\u001b[43mdrop\u001b[49m\u001b[43m(\u001b[49m\n\u001b[1;32m   5569\u001b[0m \u001b[43m        \u001b[49m\u001b[43mlabels\u001b[49m\u001b[38;5;241;43m=\u001b[39;49m\u001b[43mlabels\u001b[49m\u001b[43m,\u001b[49m\n\u001b[1;32m   5570\u001b[0m \u001b[43m        \u001b[49m\u001b[43maxis\u001b[49m\u001b[38;5;241;43m=\u001b[39;49m\u001b[43maxis\u001b[49m\u001b[43m,\u001b[49m\n\u001b[1;32m   5571\u001b[0m \u001b[43m        \u001b[49m\u001b[43mindex\u001b[49m\u001b[38;5;241;43m=\u001b[39;49m\u001b[43mindex\u001b[49m\u001b[43m,\u001b[49m\n\u001b[1;32m   5572\u001b[0m \u001b[43m        \u001b[49m\u001b[43mcolumns\u001b[49m\u001b[38;5;241;43m=\u001b[39;49m\u001b[43mcolumns\u001b[49m\u001b[43m,\u001b[49m\n\u001b[1;32m   5573\u001b[0m \u001b[43m        \u001b[49m\u001b[43mlevel\u001b[49m\u001b[38;5;241;43m=\u001b[39;49m\u001b[43mlevel\u001b[49m\u001b[43m,\u001b[49m\n\u001b[1;32m   5574\u001b[0m \u001b[43m        \u001b[49m\u001b[43minplace\u001b[49m\u001b[38;5;241;43m=\u001b[39;49m\u001b[43minplace\u001b[49m\u001b[43m,\u001b[49m\n\u001b[1;32m   5575\u001b[0m \u001b[43m        \u001b[49m\u001b[43merrors\u001b[49m\u001b[38;5;241;43m=\u001b[39;49m\u001b[43merrors\u001b[49m\u001b[43m,\u001b[49m\n\u001b[1;32m   5576\u001b[0m \u001b[43m    \u001b[49m\u001b[43m)\u001b[49m\n",
            "File \u001b[0;32m/opt/conda/lib/python3.10/site-packages/pandas/core/generic.py:4782\u001b[0m, in \u001b[0;36mNDFrame.drop\u001b[0;34m(self, labels, axis, index, columns, level, inplace, errors)\u001b[0m\n\u001b[1;32m   4780\u001b[0m \u001b[38;5;28;01mfor\u001b[39;00m axis, labels \u001b[38;5;129;01min\u001b[39;00m axes\u001b[38;5;241m.\u001b[39mitems():\n\u001b[1;32m   4781\u001b[0m     \u001b[38;5;28;01mif\u001b[39;00m labels \u001b[38;5;129;01mis\u001b[39;00m \u001b[38;5;129;01mnot\u001b[39;00m \u001b[38;5;28;01mNone\u001b[39;00m:\n\u001b[0;32m-> 4782\u001b[0m         obj \u001b[38;5;241m=\u001b[39m \u001b[43mobj\u001b[49m\u001b[38;5;241;43m.\u001b[39;49m\u001b[43m_drop_axis\u001b[49m\u001b[43m(\u001b[49m\u001b[43mlabels\u001b[49m\u001b[43m,\u001b[49m\u001b[43m \u001b[49m\u001b[43maxis\u001b[49m\u001b[43m,\u001b[49m\u001b[43m \u001b[49m\u001b[43mlevel\u001b[49m\u001b[38;5;241;43m=\u001b[39;49m\u001b[43mlevel\u001b[49m\u001b[43m,\u001b[49m\u001b[43m \u001b[49m\u001b[43merrors\u001b[49m\u001b[38;5;241;43m=\u001b[39;49m\u001b[43merrors\u001b[49m\u001b[43m)\u001b[49m\n\u001b[1;32m   4784\u001b[0m \u001b[38;5;28;01mif\u001b[39;00m inplace:\n\u001b[1;32m   4785\u001b[0m     \u001b[38;5;28mself\u001b[39m\u001b[38;5;241m.\u001b[39m_update_inplace(obj)\n",
            "File \u001b[0;32m/opt/conda/lib/python3.10/site-packages/pandas/core/generic.py:4824\u001b[0m, in \u001b[0;36mNDFrame._drop_axis\u001b[0;34m(self, labels, axis, level, errors, only_slice)\u001b[0m\n\u001b[1;32m   4822\u001b[0m         new_axis \u001b[38;5;241m=\u001b[39m axis\u001b[38;5;241m.\u001b[39mdrop(labels, level\u001b[38;5;241m=\u001b[39mlevel, errors\u001b[38;5;241m=\u001b[39merrors)\n\u001b[1;32m   4823\u001b[0m     \u001b[38;5;28;01melse\u001b[39;00m:\n\u001b[0;32m-> 4824\u001b[0m         new_axis \u001b[38;5;241m=\u001b[39m \u001b[43maxis\u001b[49m\u001b[38;5;241;43m.\u001b[39;49m\u001b[43mdrop\u001b[49m\u001b[43m(\u001b[49m\u001b[43mlabels\u001b[49m\u001b[43m,\u001b[49m\u001b[43m \u001b[49m\u001b[43merrors\u001b[49m\u001b[38;5;241;43m=\u001b[39;49m\u001b[43merrors\u001b[49m\u001b[43m)\u001b[49m\n\u001b[1;32m   4825\u001b[0m     indexer \u001b[38;5;241m=\u001b[39m axis\u001b[38;5;241m.\u001b[39mget_indexer(new_axis)\n\u001b[1;32m   4827\u001b[0m \u001b[38;5;66;03m# Case for non-unique axis\u001b[39;00m\n\u001b[1;32m   4828\u001b[0m \u001b[38;5;28;01melse\u001b[39;00m:\n",
            "File \u001b[0;32m/opt/conda/lib/python3.10/site-packages/pandas/core/indexes/base.py:7069\u001b[0m, in \u001b[0;36mIndex.drop\u001b[0;34m(self, labels, errors)\u001b[0m\n\u001b[1;32m   7067\u001b[0m \u001b[38;5;28;01mif\u001b[39;00m mask\u001b[38;5;241m.\u001b[39many():\n\u001b[1;32m   7068\u001b[0m     \u001b[38;5;28;01mif\u001b[39;00m errors \u001b[38;5;241m!=\u001b[39m \u001b[38;5;124m\"\u001b[39m\u001b[38;5;124mignore\u001b[39m\u001b[38;5;124m\"\u001b[39m:\n\u001b[0;32m-> 7069\u001b[0m         \u001b[38;5;28;01mraise\u001b[39;00m \u001b[38;5;167;01mKeyError\u001b[39;00m(\u001b[38;5;124mf\u001b[39m\u001b[38;5;124m\"\u001b[39m\u001b[38;5;132;01m{\u001b[39;00mlabels[mask]\u001b[38;5;241m.\u001b[39mtolist()\u001b[38;5;132;01m}\u001b[39;00m\u001b[38;5;124m not found in axis\u001b[39m\u001b[38;5;124m\"\u001b[39m)\n\u001b[1;32m   7070\u001b[0m     indexer \u001b[38;5;241m=\u001b[39m indexer[\u001b[38;5;241m~\u001b[39mmask]\n\u001b[1;32m   7071\u001b[0m \u001b[38;5;28;01mreturn\u001b[39;00m \u001b[38;5;28mself\u001b[39m\u001b[38;5;241m.\u001b[39mdelete(indexer)\n",
            "\u001b[0;31mKeyError\u001b[0m: \"['Ticket', 'Name', 'PassengerId', 'Cabin', 'SibSp'] not found in axis\""
          ],
          "ename": "KeyError",
          "evalue": "\"['Ticket', 'Name', 'PassengerId', 'Cabin', 'SibSp'] not found in axis\"",
          "output_type": "error"
        }
      ],
      "execution_count": null
    },
    {
      "cell_type": "code",
      "source": [
        "data_train.head()"
      ],
      "metadata": {
        "execution": {
          "iopub.status.busy": "2024-02-17T09:42:51.343421Z",
          "iopub.execute_input": "2024-02-17T09:42:51.343835Z",
          "iopub.status.idle": "2024-02-17T09:42:51.359056Z",
          "shell.execute_reply.started": "2024-02-17T09:42:51.343806Z",
          "shell.execute_reply": "2024-02-17T09:42:51.357851Z"
        },
        "trusted": true,
        "id": "8XANMGHtQDgJ",
        "outputId": "83e864c1-17bb-4af2-f30a-00fc39f8ff34"
      },
      "outputs": [
        {
          "execution_count": 20,
          "output_type": "execute_result",
          "data": {
            "text/plain": "   Survived  Pclass     Sex   Age  Parch     Fare Embarked\n0         0       3    male  22.0      0   7.2500        S\n1         1       1  female  38.0      0  71.2833        C\n2         1       3  female  26.0      0   7.9250        S\n3         1       1  female  35.0      0  53.1000        S\n4         0       3    male  35.0      0   8.0500        S",
            "text/html": "<div>\n<style scoped>\n    .dataframe tbody tr th:only-of-type {\n        vertical-align: middle;\n    }\n\n    .dataframe tbody tr th {\n        vertical-align: top;\n    }\n\n    .dataframe thead th {\n        text-align: right;\n    }\n</style>\n<table border=\"1\" class=\"dataframe\">\n  <thead>\n    <tr style=\"text-align: right;\">\n      <th></th>\n      <th>Survived</th>\n      <th>Pclass</th>\n      <th>Sex</th>\n      <th>Age</th>\n      <th>Parch</th>\n      <th>Fare</th>\n      <th>Embarked</th>\n    </tr>\n  </thead>\n  <tbody>\n    <tr>\n      <th>0</th>\n      <td>0</td>\n      <td>3</td>\n      <td>male</td>\n      <td>22.0</td>\n      <td>0</td>\n      <td>7.2500</td>\n      <td>S</td>\n    </tr>\n    <tr>\n      <th>1</th>\n      <td>1</td>\n      <td>1</td>\n      <td>female</td>\n      <td>38.0</td>\n      <td>0</td>\n      <td>71.2833</td>\n      <td>C</td>\n    </tr>\n    <tr>\n      <th>2</th>\n      <td>1</td>\n      <td>3</td>\n      <td>female</td>\n      <td>26.0</td>\n      <td>0</td>\n      <td>7.9250</td>\n      <td>S</td>\n    </tr>\n    <tr>\n      <th>3</th>\n      <td>1</td>\n      <td>1</td>\n      <td>female</td>\n      <td>35.0</td>\n      <td>0</td>\n      <td>53.1000</td>\n      <td>S</td>\n    </tr>\n    <tr>\n      <th>4</th>\n      <td>0</td>\n      <td>3</td>\n      <td>male</td>\n      <td>35.0</td>\n      <td>0</td>\n      <td>8.0500</td>\n      <td>S</td>\n    </tr>\n  </tbody>\n</table>\n</div>"
          },
          "metadata": {}
        }
      ],
      "execution_count": null
    },
    {
      "cell_type": "code",
      "source": [
        "data_train"
      ],
      "metadata": {
        "execution": {
          "iopub.status.busy": "2024-02-17T09:47:41.506849Z",
          "iopub.execute_input": "2024-02-17T09:47:41.507251Z",
          "iopub.status.idle": "2024-02-17T09:47:41.523564Z",
          "shell.execute_reply.started": "2024-02-17T09:47:41.507225Z",
          "shell.execute_reply": "2024-02-17T09:47:41.522407Z"
        },
        "trusted": true,
        "id": "qlpvEtgCQDgJ",
        "outputId": "526f92e6-eb5a-4a69-91ca-5228cc0f3ce7"
      },
      "outputs": [
        {
          "execution_count": 22,
          "output_type": "execute_result",
          "data": {
            "text/plain": "     Survived  Pclass     Sex        Age  Parch     Fare Embarked\n0           0       3    male  22.000000      0   7.2500        S\n1           1       1  female  38.000000      0  71.2833        C\n2           1       3  female  26.000000      0   7.9250        S\n3           1       1  female  35.000000      0  53.1000        S\n4           0       3    male  35.000000      0   8.0500        S\n..        ...     ...     ...        ...    ...      ...      ...\n886         0       2    male  27.000000      0  13.0000        S\n887         1       1  female  19.000000      0  30.0000        S\n888         0       3  female  29.699118      2  23.4500        S\n889         1       1    male  26.000000      0  30.0000        C\n890         0       3    male  32.000000      0   7.7500        Q\n\n[891 rows x 7 columns]",
            "text/html": "<div>\n<style scoped>\n    .dataframe tbody tr th:only-of-type {\n        vertical-align: middle;\n    }\n\n    .dataframe tbody tr th {\n        vertical-align: top;\n    }\n\n    .dataframe thead th {\n        text-align: right;\n    }\n</style>\n<table border=\"1\" class=\"dataframe\">\n  <thead>\n    <tr style=\"text-align: right;\">\n      <th></th>\n      <th>Survived</th>\n      <th>Pclass</th>\n      <th>Sex</th>\n      <th>Age</th>\n      <th>Parch</th>\n      <th>Fare</th>\n      <th>Embarked</th>\n    </tr>\n  </thead>\n  <tbody>\n    <tr>\n      <th>0</th>\n      <td>0</td>\n      <td>3</td>\n      <td>male</td>\n      <td>22.000000</td>\n      <td>0</td>\n      <td>7.2500</td>\n      <td>S</td>\n    </tr>\n    <tr>\n      <th>1</th>\n      <td>1</td>\n      <td>1</td>\n      <td>female</td>\n      <td>38.000000</td>\n      <td>0</td>\n      <td>71.2833</td>\n      <td>C</td>\n    </tr>\n    <tr>\n      <th>2</th>\n      <td>1</td>\n      <td>3</td>\n      <td>female</td>\n      <td>26.000000</td>\n      <td>0</td>\n      <td>7.9250</td>\n      <td>S</td>\n    </tr>\n    <tr>\n      <th>3</th>\n      <td>1</td>\n      <td>1</td>\n      <td>female</td>\n      <td>35.000000</td>\n      <td>0</td>\n      <td>53.1000</td>\n      <td>S</td>\n    </tr>\n    <tr>\n      <th>4</th>\n      <td>0</td>\n      <td>3</td>\n      <td>male</td>\n      <td>35.000000</td>\n      <td>0</td>\n      <td>8.0500</td>\n      <td>S</td>\n    </tr>\n    <tr>\n      <th>...</th>\n      <td>...</td>\n      <td>...</td>\n      <td>...</td>\n      <td>...</td>\n      <td>...</td>\n      <td>...</td>\n      <td>...</td>\n    </tr>\n    <tr>\n      <th>886</th>\n      <td>0</td>\n      <td>2</td>\n      <td>male</td>\n      <td>27.000000</td>\n      <td>0</td>\n      <td>13.0000</td>\n      <td>S</td>\n    </tr>\n    <tr>\n      <th>887</th>\n      <td>1</td>\n      <td>1</td>\n      <td>female</td>\n      <td>19.000000</td>\n      <td>0</td>\n      <td>30.0000</td>\n      <td>S</td>\n    </tr>\n    <tr>\n      <th>888</th>\n      <td>0</td>\n      <td>3</td>\n      <td>female</td>\n      <td>29.699118</td>\n      <td>2</td>\n      <td>23.4500</td>\n      <td>S</td>\n    </tr>\n    <tr>\n      <th>889</th>\n      <td>1</td>\n      <td>1</td>\n      <td>male</td>\n      <td>26.000000</td>\n      <td>0</td>\n      <td>30.0000</td>\n      <td>C</td>\n    </tr>\n    <tr>\n      <th>890</th>\n      <td>0</td>\n      <td>3</td>\n      <td>male</td>\n      <td>32.000000</td>\n      <td>0</td>\n      <td>7.7500</td>\n      <td>Q</td>\n    </tr>\n  </tbody>\n</table>\n<p>891 rows × 7 columns</p>\n</div>"
          },
          "metadata": {}
        }
      ],
      "execution_count": null
    },
    {
      "cell_type": "code",
      "source": [
        "from sklearn.preprocessing import LabelEncoder\n",
        "\n",
        "le = LabelEncoder()\n",
        "\n",
        "cols=['Sex','Embarked']\n",
        "\n",
        "for col in cols:\n",
        "    data_train[col]=le.fit_transform(data_train[col])\n",
        "    data_test[col]=le.fit_transform(data_test[col])\n",
        "\n",
        "data_train.head(10)"
      ],
      "metadata": {
        "execution": {
          "iopub.status.busy": "2024-02-17T09:59:15.174618Z",
          "iopub.execute_input": "2024-02-17T09:59:15.175411Z",
          "iopub.status.idle": "2024-02-17T09:59:15.193534Z",
          "shell.execute_reply.started": "2024-02-17T09:59:15.175371Z",
          "shell.execute_reply": "2024-02-17T09:59:15.192018Z"
        },
        "trusted": true,
        "id": "x7JgbNprQDgK",
        "outputId": "cb3a1a76-5474-44e0-eb72-376b449653ac"
      },
      "outputs": [
        {
          "execution_count": 25,
          "output_type": "execute_result",
          "data": {
            "text/plain": "   Survived  Pclass  Sex        Age  Parch     Fare  Embarked\n0         0       3    1  22.000000      0   7.2500         2\n1         1       1    0  38.000000      0  71.2833         0\n2         1       3    0  26.000000      0   7.9250         2\n3         1       1    0  35.000000      0  53.1000         2\n4         0       3    1  35.000000      0   8.0500         2\n5         0       3    1  29.699118      0   8.4583         1\n6         0       1    1  54.000000      0  51.8625         2\n7         0       3    1   2.000000      1  21.0750         2\n8         1       3    0  27.000000      2  11.1333         2\n9         1       2    0  14.000000      0  30.0708         0",
            "text/html": "<div>\n<style scoped>\n    .dataframe tbody tr th:only-of-type {\n        vertical-align: middle;\n    }\n\n    .dataframe tbody tr th {\n        vertical-align: top;\n    }\n\n    .dataframe thead th {\n        text-align: right;\n    }\n</style>\n<table border=\"1\" class=\"dataframe\">\n  <thead>\n    <tr style=\"text-align: right;\">\n      <th></th>\n      <th>Survived</th>\n      <th>Pclass</th>\n      <th>Sex</th>\n      <th>Age</th>\n      <th>Parch</th>\n      <th>Fare</th>\n      <th>Embarked</th>\n    </tr>\n  </thead>\n  <tbody>\n    <tr>\n      <th>0</th>\n      <td>0</td>\n      <td>3</td>\n      <td>1</td>\n      <td>22.000000</td>\n      <td>0</td>\n      <td>7.2500</td>\n      <td>2</td>\n    </tr>\n    <tr>\n      <th>1</th>\n      <td>1</td>\n      <td>1</td>\n      <td>0</td>\n      <td>38.000000</td>\n      <td>0</td>\n      <td>71.2833</td>\n      <td>0</td>\n    </tr>\n    <tr>\n      <th>2</th>\n      <td>1</td>\n      <td>3</td>\n      <td>0</td>\n      <td>26.000000</td>\n      <td>0</td>\n      <td>7.9250</td>\n      <td>2</td>\n    </tr>\n    <tr>\n      <th>3</th>\n      <td>1</td>\n      <td>1</td>\n      <td>0</td>\n      <td>35.000000</td>\n      <td>0</td>\n      <td>53.1000</td>\n      <td>2</td>\n    </tr>\n    <tr>\n      <th>4</th>\n      <td>0</td>\n      <td>3</td>\n      <td>1</td>\n      <td>35.000000</td>\n      <td>0</td>\n      <td>8.0500</td>\n      <td>2</td>\n    </tr>\n    <tr>\n      <th>5</th>\n      <td>0</td>\n      <td>3</td>\n      <td>1</td>\n      <td>29.699118</td>\n      <td>0</td>\n      <td>8.4583</td>\n      <td>1</td>\n    </tr>\n    <tr>\n      <th>6</th>\n      <td>0</td>\n      <td>1</td>\n      <td>1</td>\n      <td>54.000000</td>\n      <td>0</td>\n      <td>51.8625</td>\n      <td>2</td>\n    </tr>\n    <tr>\n      <th>7</th>\n      <td>0</td>\n      <td>3</td>\n      <td>1</td>\n      <td>2.000000</td>\n      <td>1</td>\n      <td>21.0750</td>\n      <td>2</td>\n    </tr>\n    <tr>\n      <th>8</th>\n      <td>1</td>\n      <td>3</td>\n      <td>0</td>\n      <td>27.000000</td>\n      <td>2</td>\n      <td>11.1333</td>\n      <td>2</td>\n    </tr>\n    <tr>\n      <th>9</th>\n      <td>1</td>\n      <td>2</td>\n      <td>0</td>\n      <td>14.000000</td>\n      <td>0</td>\n      <td>30.0708</td>\n      <td>0</td>\n    </tr>\n  </tbody>\n</table>\n</div>"
          },
          "metadata": {}
        }
      ],
      "execution_count": null
    },
    {
      "cell_type": "code",
      "source": [
        "from sklearn.model_selection import train_test_split\n",
        "y=data_train[\"Survived\"]\n",
        "x=data_train.drop(\"Survived\", axis=1)\n",
        "\n",
        "x_train,x_test,y_train,y_test=train_test_split( x, y, test_size=0.3,random_state=125)"
      ],
      "metadata": {
        "execution": {
          "iopub.status.busy": "2024-02-17T10:09:01.289173Z",
          "iopub.execute_input": "2024-02-17T10:09:01.289562Z",
          "iopub.status.idle": "2024-02-17T10:09:01.299113Z",
          "shell.execute_reply.started": "2024-02-17T10:09:01.289534Z",
          "shell.execute_reply": "2024-02-17T10:09:01.297888Z"
        },
        "trusted": true,
        "id": "xflMaQBpQDgK"
      },
      "outputs": [],
      "execution_count": null
    },
    {
      "cell_type": "code",
      "source": [
        "len(x_train)"
      ],
      "metadata": {
        "execution": {
          "iopub.status.busy": "2024-02-17T10:09:18.719479Z",
          "iopub.execute_input": "2024-02-17T10:09:18.719908Z",
          "iopub.status.idle": "2024-02-17T10:09:18.726272Z",
          "shell.execute_reply.started": "2024-02-17T10:09:18.719871Z",
          "shell.execute_reply": "2024-02-17T10:09:18.724938Z"
        },
        "trusted": true,
        "id": "OuE2OZhmQDgK",
        "outputId": "4dc94959-f0dd-4d5a-e930-443cbc22b046"
      },
      "outputs": [
        {
          "execution_count": 32,
          "output_type": "execute_result",
          "data": {
            "text/plain": "623"
          },
          "metadata": {}
        }
      ],
      "execution_count": null
    },
    {
      "cell_type": "code",
      "source": [
        "from sklearn.naive_bayes import GaussianNB\n",
        "model = GaussianNB()"
      ],
      "metadata": {
        "execution": {
          "iopub.status.busy": "2024-02-17T10:12:53.236416Z",
          "iopub.execute_input": "2024-02-17T10:12:53.237186Z",
          "iopub.status.idle": "2024-02-17T10:12:53.245096Z",
          "shell.execute_reply.started": "2024-02-17T10:12:53.23715Z",
          "shell.execute_reply": "2024-02-17T10:12:53.243635Z"
        },
        "trusted": true,
        "id": "RTPaG3qRQDgK"
      },
      "outputs": [],
      "execution_count": null
    },
    {
      "cell_type": "code",
      "source": [
        "model.fit(x_train,y_train)"
      ],
      "metadata": {
        "execution": {
          "iopub.status.busy": "2024-02-17T10:13:47.475695Z",
          "iopub.execute_input": "2024-02-17T10:13:47.476114Z",
          "iopub.status.idle": "2024-02-17T10:13:47.491546Z",
          "shell.execute_reply.started": "2024-02-17T10:13:47.476085Z",
          "shell.execute_reply": "2024-02-17T10:13:47.49006Z"
        },
        "trusted": true,
        "id": "Zdrah68HQDgK",
        "outputId": "93ee5c29-2046-4c58-90a0-bbdc9ae028d5"
      },
      "outputs": [
        {
          "execution_count": 34,
          "output_type": "execute_result",
          "data": {
            "text/plain": "GaussianNB()",
            "text/html": "<style>#sk-container-id-1 {color: black;background-color: white;}#sk-container-id-1 pre{padding: 0;}#sk-container-id-1 div.sk-toggleable {background-color: white;}#sk-container-id-1 label.sk-toggleable__label {cursor: pointer;display: block;width: 100%;margin-bottom: 0;padding: 0.3em;box-sizing: border-box;text-align: center;}#sk-container-id-1 label.sk-toggleable__label-arrow:before {content: \"▸\";float: left;margin-right: 0.25em;color: #696969;}#sk-container-id-1 label.sk-toggleable__label-arrow:hover:before {color: black;}#sk-container-id-1 div.sk-estimator:hover label.sk-toggleable__label-arrow:before {color: black;}#sk-container-id-1 div.sk-toggleable__content {max-height: 0;max-width: 0;overflow: hidden;text-align: left;background-color: #f0f8ff;}#sk-container-id-1 div.sk-toggleable__content pre {margin: 0.2em;color: black;border-radius: 0.25em;background-color: #f0f8ff;}#sk-container-id-1 input.sk-toggleable__control:checked~div.sk-toggleable__content {max-height: 200px;max-width: 100%;overflow: auto;}#sk-container-id-1 input.sk-toggleable__control:checked~label.sk-toggleable__label-arrow:before {content: \"▾\";}#sk-container-id-1 div.sk-estimator input.sk-toggleable__control:checked~label.sk-toggleable__label {background-color: #d4ebff;}#sk-container-id-1 div.sk-label input.sk-toggleable__control:checked~label.sk-toggleable__label {background-color: #d4ebff;}#sk-container-id-1 input.sk-hidden--visually {border: 0;clip: rect(1px 1px 1px 1px);clip: rect(1px, 1px, 1px, 1px);height: 1px;margin: -1px;overflow: hidden;padding: 0;position: absolute;width: 1px;}#sk-container-id-1 div.sk-estimator {font-family: monospace;background-color: #f0f8ff;border: 1px dotted black;border-radius: 0.25em;box-sizing: border-box;margin-bottom: 0.5em;}#sk-container-id-1 div.sk-estimator:hover {background-color: #d4ebff;}#sk-container-id-1 div.sk-parallel-item::after {content: \"\";width: 100%;border-bottom: 1px solid gray;flex-grow: 1;}#sk-container-id-1 div.sk-label:hover label.sk-toggleable__label {background-color: #d4ebff;}#sk-container-id-1 div.sk-serial::before {content: \"\";position: absolute;border-left: 1px solid gray;box-sizing: border-box;top: 0;bottom: 0;left: 50%;z-index: 0;}#sk-container-id-1 div.sk-serial {display: flex;flex-direction: column;align-items: center;background-color: white;padding-right: 0.2em;padding-left: 0.2em;position: relative;}#sk-container-id-1 div.sk-item {position: relative;z-index: 1;}#sk-container-id-1 div.sk-parallel {display: flex;align-items: stretch;justify-content: center;background-color: white;position: relative;}#sk-container-id-1 div.sk-item::before, #sk-container-id-1 div.sk-parallel-item::before {content: \"\";position: absolute;border-left: 1px solid gray;box-sizing: border-box;top: 0;bottom: 0;left: 50%;z-index: -1;}#sk-container-id-1 div.sk-parallel-item {display: flex;flex-direction: column;z-index: 1;position: relative;background-color: white;}#sk-container-id-1 div.sk-parallel-item:first-child::after {align-self: flex-end;width: 50%;}#sk-container-id-1 div.sk-parallel-item:last-child::after {align-self: flex-start;width: 50%;}#sk-container-id-1 div.sk-parallel-item:only-child::after {width: 0;}#sk-container-id-1 div.sk-dashed-wrapped {border: 1px dashed gray;margin: 0 0.4em 0.5em 0.4em;box-sizing: border-box;padding-bottom: 0.4em;background-color: white;}#sk-container-id-1 div.sk-label label {font-family: monospace;font-weight: bold;display: inline-block;line-height: 1.2em;}#sk-container-id-1 div.sk-label-container {text-align: center;}#sk-container-id-1 div.sk-container {/* jupyter's `normalize.less` sets `[hidden] { display: none; }` but bootstrap.min.css set `[hidden] { display: none !important; }` so we also need the `!important` here to be able to override the default hidden behavior on the sphinx rendered scikit-learn.org. See: https://github.com/scikit-learn/scikit-learn/issues/21755 */display: inline-block !important;position: relative;}#sk-container-id-1 div.sk-text-repr-fallback {display: none;}</style><div id=\"sk-container-id-1\" class=\"sk-top-container\"><div class=\"sk-text-repr-fallback\"><pre>GaussianNB()</pre><b>In a Jupyter environment, please rerun this cell to show the HTML representation or trust the notebook. <br />On GitHub, the HTML representation is unable to render, please try loading this page with nbviewer.org.</b></div><div class=\"sk-container\" hidden><div class=\"sk-item\"><div class=\"sk-estimator sk-toggleable\"><input class=\"sk-toggleable__control sk-hidden--visually\" id=\"sk-estimator-id-1\" type=\"checkbox\" checked><label for=\"sk-estimator-id-1\" class=\"sk-toggleable__label sk-toggleable__label-arrow\">GaussianNB</label><div class=\"sk-toggleable__content\"><pre>GaussianNB()</pre></div></div></div></div></div>"
          },
          "metadata": {}
        }
      ],
      "execution_count": null
    },
    {
      "cell_type": "code",
      "source": [
        "model.score(x_test,y_test)"
      ],
      "metadata": {
        "execution": {
          "iopub.status.busy": "2024-02-17T10:15:36.621444Z",
          "iopub.execute_input": "2024-02-17T10:15:36.621983Z",
          "iopub.status.idle": "2024-02-17T10:15:36.636586Z",
          "shell.execute_reply.started": "2024-02-17T10:15:36.621938Z",
          "shell.execute_reply": "2024-02-17T10:15:36.635146Z"
        },
        "trusted": true,
        "id": "QLCQZueOQDgK",
        "outputId": "4cdab096-e6c2-4fa4-9c23-6b8bdf47b6ee"
      },
      "outputs": [
        {
          "execution_count": 35,
          "output_type": "execute_result",
          "data": {
            "text/plain": "0.7835820895522388"
          },
          "metadata": {}
        }
      ],
      "execution_count": null
    },
    {
      "cell_type": "code",
      "source": [
        "y_predicted=model.predict(x_test)"
      ],
      "metadata": {
        "execution": {
          "iopub.status.busy": "2024-02-17T10:19:04.968222Z",
          "iopub.execute_input": "2024-02-17T10:19:04.968658Z",
          "iopub.status.idle": "2024-02-17T10:19:04.976644Z",
          "shell.execute_reply.started": "2024-02-17T10:19:04.968627Z",
          "shell.execute_reply": "2024-02-17T10:19:04.975289Z"
        },
        "trusted": true,
        "id": "kbJ-uwZPQDgL"
      },
      "outputs": [],
      "execution_count": null
    },
    {
      "cell_type": "code",
      "source": [
        "sub_pred=model.predict(data_test)"
      ],
      "metadata": {
        "execution": {
          "iopub.status.busy": "2024-02-17T10:19:28.782474Z",
          "iopub.execute_input": "2024-02-17T10:19:28.782903Z",
          "iopub.status.idle": "2024-02-17T10:19:28.794042Z",
          "shell.execute_reply.started": "2024-02-17T10:19:28.78287Z",
          "shell.execute_reply": "2024-02-17T10:19:28.792458Z"
        },
        "trusted": true,
        "id": "rukG1XDyQDgL"
      },
      "outputs": [],
      "execution_count": null
    },
    {
      "cell_type": "code",
      "source": [
        "data_test\n"
      ],
      "metadata": {
        "execution": {
          "iopub.status.busy": "2024-02-17T10:19:42.130661Z",
          "iopub.execute_input": "2024-02-17T10:19:42.131984Z",
          "iopub.status.idle": "2024-02-17T10:19:42.147166Z",
          "shell.execute_reply.started": "2024-02-17T10:19:42.131934Z",
          "shell.execute_reply": "2024-02-17T10:19:42.145843Z"
        },
        "trusted": true,
        "id": "jiwjMtFqQDgL",
        "outputId": "4a67442b-1540-4116-db43-9d095ea4d7d0"
      },
      "outputs": [
        {
          "execution_count": 40,
          "output_type": "execute_result",
          "data": {
            "text/plain": "     Pclass  Sex       Age  Parch      Fare  Embarked\n0         3    1  34.50000      0    7.8292         1\n1         3    0  47.00000      0    7.0000         2\n2         2    1  62.00000      0    9.6875         1\n3         3    1  27.00000      0    8.6625         2\n4         3    0  22.00000      1   12.2875         2\n..      ...  ...       ...    ...       ...       ...\n413       3    1  30.27259      0    8.0500         2\n414       1    0  39.00000      0  108.9000         0\n415       3    1  38.50000      0    7.2500         2\n416       3    1  30.27259      0    8.0500         2\n417       3    1  30.27259      1   22.3583         0\n\n[418 rows x 6 columns]",
            "text/html": "<div>\n<style scoped>\n    .dataframe tbody tr th:only-of-type {\n        vertical-align: middle;\n    }\n\n    .dataframe tbody tr th {\n        vertical-align: top;\n    }\n\n    .dataframe thead th {\n        text-align: right;\n    }\n</style>\n<table border=\"1\" class=\"dataframe\">\n  <thead>\n    <tr style=\"text-align: right;\">\n      <th></th>\n      <th>Pclass</th>\n      <th>Sex</th>\n      <th>Age</th>\n      <th>Parch</th>\n      <th>Fare</th>\n      <th>Embarked</th>\n    </tr>\n  </thead>\n  <tbody>\n    <tr>\n      <th>0</th>\n      <td>3</td>\n      <td>1</td>\n      <td>34.50000</td>\n      <td>0</td>\n      <td>7.8292</td>\n      <td>1</td>\n    </tr>\n    <tr>\n      <th>1</th>\n      <td>3</td>\n      <td>0</td>\n      <td>47.00000</td>\n      <td>0</td>\n      <td>7.0000</td>\n      <td>2</td>\n    </tr>\n    <tr>\n      <th>2</th>\n      <td>2</td>\n      <td>1</td>\n      <td>62.00000</td>\n      <td>0</td>\n      <td>9.6875</td>\n      <td>1</td>\n    </tr>\n    <tr>\n      <th>3</th>\n      <td>3</td>\n      <td>1</td>\n      <td>27.00000</td>\n      <td>0</td>\n      <td>8.6625</td>\n      <td>2</td>\n    </tr>\n    <tr>\n      <th>4</th>\n      <td>3</td>\n      <td>0</td>\n      <td>22.00000</td>\n      <td>1</td>\n      <td>12.2875</td>\n      <td>2</td>\n    </tr>\n    <tr>\n      <th>...</th>\n      <td>...</td>\n      <td>...</td>\n      <td>...</td>\n      <td>...</td>\n      <td>...</td>\n      <td>...</td>\n    </tr>\n    <tr>\n      <th>413</th>\n      <td>3</td>\n      <td>1</td>\n      <td>30.27259</td>\n      <td>0</td>\n      <td>8.0500</td>\n      <td>2</td>\n    </tr>\n    <tr>\n      <th>414</th>\n      <td>1</td>\n      <td>0</td>\n      <td>39.00000</td>\n      <td>0</td>\n      <td>108.9000</td>\n      <td>0</td>\n    </tr>\n    <tr>\n      <th>415</th>\n      <td>3</td>\n      <td>1</td>\n      <td>38.50000</td>\n      <td>0</td>\n      <td>7.2500</td>\n      <td>2</td>\n    </tr>\n    <tr>\n      <th>416</th>\n      <td>3</td>\n      <td>1</td>\n      <td>30.27259</td>\n      <td>0</td>\n      <td>8.0500</td>\n      <td>2</td>\n    </tr>\n    <tr>\n      <th>417</th>\n      <td>3</td>\n      <td>1</td>\n      <td>30.27259</td>\n      <td>1</td>\n      <td>22.3583</td>\n      <td>0</td>\n    </tr>\n  </tbody>\n</table>\n<p>418 rows × 6 columns</p>\n</div>"
          },
          "metadata": {}
        }
      ],
      "execution_count": null
    },
    {
      "cell_type": "code",
      "source": [
        "sub_pred=model.predict(data_test\n",
        "                      )"
      ],
      "metadata": {
        "id": "rDKCL8puQDgL"
      },
      "outputs": [],
      "execution_count": null
    },
    {
      "cell_type": "code",
      "source": [
        "sub_pred"
      ],
      "metadata": {
        "execution": {
          "iopub.status.busy": "2024-02-17T10:21:11.841395Z",
          "iopub.execute_input": "2024-02-17T10:21:11.841883Z",
          "iopub.status.idle": "2024-02-17T10:21:11.851094Z",
          "shell.execute_reply.started": "2024-02-17T10:21:11.841846Z",
          "shell.execute_reply": "2024-02-17T10:21:11.849486Z"
        },
        "trusted": true,
        "id": "GizSiPbwQDgL",
        "outputId": "07617782-5a8d-4934-e819-f3bc86c8bd39"
      },
      "outputs": [
        {
          "execution_count": 41,
          "output_type": "execute_result",
          "data": {
            "text/plain": "array([0, 1, 0, 0, 1, 0, 1, 0, 1, 0, 0, 0, 1, 0, 1, 1, 0, 0, 1, 1, 1, 0,\n       1, 1, 1, 0, 1, 0, 0, 0, 0, 0, 0, 0, 1, 0, 1, 1, 0, 0, 0, 0, 0, 1,\n       1, 0, 1, 0, 1, 0, 0, 0, 1, 1, 0, 0, 0, 0, 0, 1, 0, 0, 0, 1, 1, 1,\n       1, 0, 1, 1, 1, 0, 1, 1, 1, 1, 0, 1, 0, 1, 0, 1, 0, 0, 0, 0, 1, 1,\n       1, 0, 1, 0, 1, 0, 1, 0, 1, 0, 1, 0, 1, 0, 0, 0, 1, 0, 0, 0, 0, 0,\n       0, 1, 1, 1, 1, 0, 0, 1, 1, 1, 1, 0, 1, 0, 0, 1, 0, 1, 0, 0, 0, 1,\n       0, 0, 0, 0, 0, 0, 1, 0, 1, 1, 1, 0, 0, 0, 0, 0, 0, 0, 1, 0, 0, 0,\n       0, 0, 1, 1, 0, 0, 1, 0, 1, 0, 0, 1, 1, 0, 1, 1, 0, 0, 0, 0, 0, 1,\n       1, 1, 0, 1, 0, 1, 1, 0, 1, 0, 1, 0, 1, 0, 0, 0, 0, 0, 0, 0, 1, 1,\n       0, 1, 1, 0, 1, 1, 0, 1, 1, 0, 1, 0, 0, 0, 0, 1, 0, 0, 1, 1, 1, 0,\n       1, 0, 1, 0, 1, 1, 0, 1, 0, 0, 0, 1, 0, 0, 1, 0, 1, 0, 1, 1, 1, 1,\n       1, 0, 0, 0, 1, 0, 1, 1, 1, 0, 1, 0, 0, 0, 0, 0, 1, 0, 0, 0, 1, 1,\n       0, 0, 0, 0, 1, 0, 1, 0, 1, 1, 0, 1, 0, 0, 0, 0, 1, 0, 1, 1, 1, 0,\n       0, 1, 0, 0, 0, 1, 0, 1, 0, 0, 1, 0, 0, 0, 0, 0, 0, 0, 1, 1, 1, 0,\n       1, 1, 0, 0, 0, 1, 1, 1, 1, 0, 0, 0, 0, 0, 0, 0, 1, 0, 1, 1, 0, 0,\n       1, 1, 0, 1, 0, 0, 0, 0, 0, 0, 0, 0, 0, 1, 0, 1, 0, 1, 0, 1, 1, 0,\n       0, 0, 1, 0, 1, 0, 0, 1, 0, 1, 1, 0, 1, 0, 0, 1, 1, 0, 0, 1, 0, 0,\n       1, 1, 1, 0, 0, 0, 0, 0, 1, 1, 0, 1, 0, 0, 0, 0, 1, 1, 0, 0, 0, 1,\n       0, 1, 0, 0, 1, 0, 1, 0, 1, 0, 0, 1, 1, 1, 1, 1, 1, 0, 1, 0, 0, 0])"
          },
          "metadata": {}
        }
      ],
      "execution_count": null
    },
    {
      "cell_type": "code",
      "source": [],
      "metadata": {
        "id": "lvvDBo4KQDgL"
      },
      "outputs": [],
      "execution_count": null
    }
  ]
}